{
  "cells": [
    {
      "cell_type": "markdown",
      "metadata": {
        "id": "A0dKQrMzXNR_"
      },
      "source": [
        "# <center> Bayesian age estimation model </center>\n",
        "\n"
      ]
    },
    {
      "cell_type": "code",
      "execution_count": 2,
      "metadata": {
        "colab": {
          "base_uri": "https://localhost:8080/"
        },
        "id": "GxnaopyB9CC3",
        "outputId": "93dd4db2-4072-4d6c-b7ce-5b1c86ffa3e2"
      },
      "outputs": [
        {
          "output_type": "stream",
          "name": "stdout",
          "text": [
            "Looking in indexes: https://pypi.org/simple, https://us-python.pkg.dev/colab-wheels/public/simple/\n",
            "Requirement already satisfied: wget in /usr/local/lib/python3.8/dist-packages (3.2)\n",
            "Requirement already satisfied: wfdb in /usr/local/lib/python3.8/dist-packages (4.1.0)\n",
            "Requirement already satisfied: neurokit2 in /usr/local/lib/python3.8/dist-packages (0.2.2)\n",
            "Requirement already satisfied: scipy<2.0.0,>=1.0.0 in /usr/local/lib/python3.8/dist-packages (from wfdb) (1.7.3)\n",
            "Requirement already satisfied: SoundFile<0.12.0,>=0.10.0 in /usr/local/lib/python3.8/dist-packages (from wfdb) (0.11.0)\n",
            "Requirement already satisfied: numpy<2.0.0,>=1.10.1 in /usr/local/lib/python3.8/dist-packages (from wfdb) (1.21.6)\n",
            "Requirement already satisfied: requests<3.0.0,>=2.8.1 in /usr/local/lib/python3.8/dist-packages (from wfdb) (2.25.1)\n",
            "Requirement already satisfied: matplotlib<4.0.0,>=3.2.2 in /usr/local/lib/python3.8/dist-packages (from wfdb) (3.2.2)\n",
            "Requirement already satisfied: pandas<2.0.0,>=1.0.0 in /usr/local/lib/python3.8/dist-packages (from wfdb) (1.3.5)\n",
            "Requirement already satisfied: scikit-learn>=1.0.0 in /usr/local/lib/python3.8/dist-packages (from neurokit2) (1.0.2)\n",
            "Requirement already satisfied: pyparsing!=2.0.4,!=2.1.2,!=2.1.6,>=2.0.1 in /usr/local/lib/python3.8/dist-packages (from matplotlib<4.0.0,>=3.2.2->wfdb) (3.0.9)\n",
            "Requirement already satisfied: kiwisolver>=1.0.1 in /usr/local/lib/python3.8/dist-packages (from matplotlib<4.0.0,>=3.2.2->wfdb) (1.4.4)\n",
            "Requirement already satisfied: cycler>=0.10 in /usr/local/lib/python3.8/dist-packages (from matplotlib<4.0.0,>=3.2.2->wfdb) (0.11.0)\n",
            "Requirement already satisfied: python-dateutil>=2.1 in /usr/local/lib/python3.8/dist-packages (from matplotlib<4.0.0,>=3.2.2->wfdb) (2.8.2)\n",
            "Requirement already satisfied: pytz>=2017.3 in /usr/local/lib/python3.8/dist-packages (from pandas<2.0.0,>=1.0.0->wfdb) (2022.7)\n",
            "Requirement already satisfied: chardet<5,>=3.0.2 in /usr/local/lib/python3.8/dist-packages (from requests<3.0.0,>=2.8.1->wfdb) (4.0.0)\n",
            "Requirement already satisfied: certifi>=2017.4.17 in /usr/local/lib/python3.8/dist-packages (from requests<3.0.0,>=2.8.1->wfdb) (2022.12.7)\n",
            "Requirement already satisfied: urllib3<1.27,>=1.21.1 in /usr/local/lib/python3.8/dist-packages (from requests<3.0.0,>=2.8.1->wfdb) (1.24.3)\n",
            "Requirement already satisfied: idna<3,>=2.5 in /usr/local/lib/python3.8/dist-packages (from requests<3.0.0,>=2.8.1->wfdb) (2.10)\n",
            "Requirement already satisfied: threadpoolctl>=2.0.0 in /usr/local/lib/python3.8/dist-packages (from scikit-learn>=1.0.0->neurokit2) (3.1.0)\n",
            "Requirement already satisfied: joblib>=0.11 in /usr/local/lib/python3.8/dist-packages (from scikit-learn>=1.0.0->neurokit2) (1.2.0)\n",
            "Requirement already satisfied: cffi>=1.0 in /usr/local/lib/python3.8/dist-packages (from SoundFile<0.12.0,>=0.10.0->wfdb) (1.15.1)\n",
            "Requirement already satisfied: pycparser in /usr/local/lib/python3.8/dist-packages (from cffi>=1.0->SoundFile<0.12.0,>=0.10.0->wfdb) (2.21)\n",
            "Requirement already satisfied: six>=1.5 in /usr/local/lib/python3.8/dist-packages (from python-dateutil>=2.1->matplotlib<4.0.0,>=3.2.2->wfdb) (1.15.0)\n"
          ]
        }
      ],
      "source": [
        "!pip install wget wfdb neurokit2"
      ]
    },
    {
      "cell_type": "code",
      "execution_count": 3,
      "metadata": {
        "colab": {
          "base_uri": "https://localhost:8080/"
        },
        "id": "ZAshTjBx9Ku5",
        "outputId": "ffaac4b5-89ef-45ff-d4eb-bed5889de129"
      },
      "outputs": [
        {
          "output_type": "stream",
          "name": "stdout",
          "text": [
            "kaggle.json\n",
            "/bin/bash: -c: line 0: unexpected EOF while looking for matching `''\n",
            "/bin/bash: -c: line 1: syntax error: unexpected end of file\n"
          ]
        }
      ],
      "source": [
        "!mkdir -p ~/.kaggle\n",
        "!cp kaggle.json ~/.kaggle/\n",
        "!ls ~/.kaggle\n",
        "!chmod 600 /root/.kaggle/kaggle.json'"
      ]
    },
    {
      "cell_type": "code",
      "execution_count": 4,
      "metadata": {
        "colab": {
          "base_uri": "https://localhost:8080/"
        },
        "id": "XX8Ht9i69dgA",
        "outputId": "a2440f30-4f42-428d-f3d4-c9dce258efbe"
      },
      "outputs": [
        {
          "output_type": "stream",
          "name": "stdout",
          "text": [
            "Warning: Your Kaggle API key is readable by other users on this system! To fix this, you can run 'chmod 600 /root/.kaggle/kaggle.json'\n",
            "ptbxl-electrocardiography-database.zip: Skipping, found more recently modified local copy (use --force to force download)\n"
          ]
        }
      ],
      "source": [
        "!kaggle datasets download -d bjoernjostein/ptbxl-electrocardiography-database"
      ]
    },
    {
      "cell_type": "code",
      "execution_count": 5,
      "metadata": {
        "id": "vDRLPbh-96DT",
        "outputId": "6484e428-36d1-4c8d-d53c-465cf3f123d8",
        "colab": {
          "base_uri": "https://localhost:8080/",
          "height": 381
        }
      },
      "outputs": [
        {
          "output_type": "error",
          "ename": "KeyboardInterrupt",
          "evalue": "ignored",
          "traceback": [
            "\u001b[0;31m---------------------------------------------------------------------------\u001b[0m",
            "\u001b[0;31mKeyboardInterrupt\u001b[0m                         Traceback (most recent call last)",
            "\u001b[0;32m<ipython-input-5-20f3c03a1a9f>\u001b[0m in \u001b[0;36m<module>\u001b[0;34m\u001b[0m\n\u001b[1;32m     10\u001b[0m         \u001b[0mfile_name\u001b[0m \u001b[0;34m=\u001b[0m \u001b[0mos\u001b[0m\u001b[0;34m.\u001b[0m\u001b[0mpath\u001b[0m\u001b[0;34m.\u001b[0m\u001b[0mabspath\u001b[0m\u001b[0;34m(\u001b[0m\u001b[0mitem\u001b[0m\u001b[0;34m)\u001b[0m \u001b[0;31m# get full path of files\u001b[0m\u001b[0;34m\u001b[0m\u001b[0;34m\u001b[0m\u001b[0m\n\u001b[1;32m     11\u001b[0m         \u001b[0mzip_ref\u001b[0m \u001b[0;34m=\u001b[0m \u001b[0mzipfile\u001b[0m\u001b[0;34m.\u001b[0m\u001b[0mZipFile\u001b[0m\u001b[0;34m(\u001b[0m\u001b[0mfile_name\u001b[0m\u001b[0;34m)\u001b[0m \u001b[0;31m# create zipfile object\u001b[0m\u001b[0;34m\u001b[0m\u001b[0;34m\u001b[0m\u001b[0m\n\u001b[0;32m---> 12\u001b[0;31m         \u001b[0mzip_ref\u001b[0m\u001b[0;34m.\u001b[0m\u001b[0mextractall\u001b[0m\u001b[0;34m(\u001b[0m\u001b[0mdir_name\u001b[0m\u001b[0;34m)\u001b[0m \u001b[0;31m# extract file to dir\u001b[0m\u001b[0;34m\u001b[0m\u001b[0;34m\u001b[0m\u001b[0m\n\u001b[0m\u001b[1;32m     13\u001b[0m         \u001b[0mzip_ref\u001b[0m\u001b[0;34m.\u001b[0m\u001b[0mclose\u001b[0m\u001b[0;34m(\u001b[0m\u001b[0;34m)\u001b[0m \u001b[0;31m# close file\u001b[0m\u001b[0;34m\u001b[0m\u001b[0;34m\u001b[0m\u001b[0m\n\u001b[1;32m     14\u001b[0m         \u001b[0mos\u001b[0m\u001b[0;34m.\u001b[0m\u001b[0mremove\u001b[0m\u001b[0;34m(\u001b[0m\u001b[0mfile_name\u001b[0m\u001b[0;34m)\u001b[0m \u001b[0;31m# delete zipped file\u001b[0m\u001b[0;34m\u001b[0m\u001b[0;34m\u001b[0m\u001b[0m\n",
            "\u001b[0;32m/usr/lib/python3.8/zipfile.py\u001b[0m in \u001b[0;36mextractall\u001b[0;34m(self, path, members, pwd)\u001b[0m\n\u001b[1;32m   1645\u001b[0m \u001b[0;34m\u001b[0m\u001b[0m\n\u001b[1;32m   1646\u001b[0m         \u001b[0;32mfor\u001b[0m \u001b[0mzipinfo\u001b[0m \u001b[0;32min\u001b[0m \u001b[0mmembers\u001b[0m\u001b[0;34m:\u001b[0m\u001b[0;34m\u001b[0m\u001b[0;34m\u001b[0m\u001b[0m\n\u001b[0;32m-> 1647\u001b[0;31m             \u001b[0mself\u001b[0m\u001b[0;34m.\u001b[0m\u001b[0m_extract_member\u001b[0m\u001b[0;34m(\u001b[0m\u001b[0mzipinfo\u001b[0m\u001b[0;34m,\u001b[0m \u001b[0mpath\u001b[0m\u001b[0;34m,\u001b[0m \u001b[0mpwd\u001b[0m\u001b[0;34m)\u001b[0m\u001b[0;34m\u001b[0m\u001b[0;34m\u001b[0m\u001b[0m\n\u001b[0m\u001b[1;32m   1648\u001b[0m \u001b[0;34m\u001b[0m\u001b[0m\n\u001b[1;32m   1649\u001b[0m     \u001b[0;34m@\u001b[0m\u001b[0mclassmethod\u001b[0m\u001b[0;34m\u001b[0m\u001b[0;34m\u001b[0m\u001b[0m\n",
            "\u001b[0;32m/usr/lib/python3.8/zipfile.py\u001b[0m in \u001b[0;36m_extract_member\u001b[0;34m(self, member, targetpath, pwd)\u001b[0m\n\u001b[1;32m   1700\u001b[0m         \u001b[0;32mwith\u001b[0m \u001b[0mself\u001b[0m\u001b[0;34m.\u001b[0m\u001b[0mopen\u001b[0m\u001b[0;34m(\u001b[0m\u001b[0mmember\u001b[0m\u001b[0;34m,\u001b[0m \u001b[0mpwd\u001b[0m\u001b[0;34m=\u001b[0m\u001b[0mpwd\u001b[0m\u001b[0;34m)\u001b[0m \u001b[0;32mas\u001b[0m \u001b[0msource\u001b[0m\u001b[0;34m,\u001b[0m\u001b[0;31m \u001b[0m\u001b[0;31m\\\u001b[0m\u001b[0;34m\u001b[0m\u001b[0;34m\u001b[0m\u001b[0m\n\u001b[1;32m   1701\u001b[0m              \u001b[0mopen\u001b[0m\u001b[0;34m(\u001b[0m\u001b[0mtargetpath\u001b[0m\u001b[0;34m,\u001b[0m \u001b[0;34m\"wb\"\u001b[0m\u001b[0;34m)\u001b[0m \u001b[0;32mas\u001b[0m \u001b[0mtarget\u001b[0m\u001b[0;34m:\u001b[0m\u001b[0;34m\u001b[0m\u001b[0;34m\u001b[0m\u001b[0m\n\u001b[0;32m-> 1702\u001b[0;31m             \u001b[0mshutil\u001b[0m\u001b[0;34m.\u001b[0m\u001b[0mcopyfileobj\u001b[0m\u001b[0;34m(\u001b[0m\u001b[0msource\u001b[0m\u001b[0;34m,\u001b[0m \u001b[0mtarget\u001b[0m\u001b[0;34m)\u001b[0m\u001b[0;34m\u001b[0m\u001b[0;34m\u001b[0m\u001b[0m\n\u001b[0m\u001b[1;32m   1703\u001b[0m \u001b[0;34m\u001b[0m\u001b[0m\n\u001b[1;32m   1704\u001b[0m         \u001b[0;32mreturn\u001b[0m \u001b[0mtargetpath\u001b[0m\u001b[0;34m\u001b[0m\u001b[0;34m\u001b[0m\u001b[0m\n",
            "\u001b[0;32m/usr/lib/python3.8/shutil.py\u001b[0m in \u001b[0;36mcopyfileobj\u001b[0;34m(fsrc, fdst, length)\u001b[0m\n\u001b[1;32m    203\u001b[0m     \u001b[0mfdst_write\u001b[0m \u001b[0;34m=\u001b[0m \u001b[0mfdst\u001b[0m\u001b[0;34m.\u001b[0m\u001b[0mwrite\u001b[0m\u001b[0;34m\u001b[0m\u001b[0;34m\u001b[0m\u001b[0m\n\u001b[1;32m    204\u001b[0m     \u001b[0;32mwhile\u001b[0m \u001b[0;32mTrue\u001b[0m\u001b[0;34m:\u001b[0m\u001b[0;34m\u001b[0m\u001b[0;34m\u001b[0m\u001b[0m\n\u001b[0;32m--> 205\u001b[0;31m         \u001b[0mbuf\u001b[0m \u001b[0;34m=\u001b[0m \u001b[0mfsrc_read\u001b[0m\u001b[0;34m(\u001b[0m\u001b[0mlength\u001b[0m\u001b[0;34m)\u001b[0m\u001b[0;34m\u001b[0m\u001b[0;34m\u001b[0m\u001b[0m\n\u001b[0m\u001b[1;32m    206\u001b[0m         \u001b[0;32mif\u001b[0m \u001b[0;32mnot\u001b[0m \u001b[0mbuf\u001b[0m\u001b[0;34m:\u001b[0m\u001b[0;34m\u001b[0m\u001b[0;34m\u001b[0m\u001b[0m\n\u001b[1;32m    207\u001b[0m             \u001b[0;32mbreak\u001b[0m\u001b[0;34m\u001b[0m\u001b[0;34m\u001b[0m\u001b[0m\n",
            "\u001b[0;32m/usr/lib/python3.8/zipfile.py\u001b[0m in \u001b[0;36mread\u001b[0;34m(self, n)\u001b[0m\n\u001b[1;32m    938\u001b[0m         \u001b[0mself\u001b[0m\u001b[0;34m.\u001b[0m\u001b[0m_offset\u001b[0m \u001b[0;34m=\u001b[0m \u001b[0;36m0\u001b[0m\u001b[0;34m\u001b[0m\u001b[0;34m\u001b[0m\u001b[0m\n\u001b[1;32m    939\u001b[0m         \u001b[0;32mwhile\u001b[0m \u001b[0mn\u001b[0m \u001b[0;34m>\u001b[0m \u001b[0;36m0\u001b[0m \u001b[0;32mand\u001b[0m \u001b[0;32mnot\u001b[0m \u001b[0mself\u001b[0m\u001b[0;34m.\u001b[0m\u001b[0m_eof\u001b[0m\u001b[0;34m:\u001b[0m\u001b[0;34m\u001b[0m\u001b[0;34m\u001b[0m\u001b[0m\n\u001b[0;32m--> 940\u001b[0;31m             \u001b[0mdata\u001b[0m \u001b[0;34m=\u001b[0m \u001b[0mself\u001b[0m\u001b[0;34m.\u001b[0m\u001b[0m_read1\u001b[0m\u001b[0;34m(\u001b[0m\u001b[0mn\u001b[0m\u001b[0;34m)\u001b[0m\u001b[0;34m\u001b[0m\u001b[0;34m\u001b[0m\u001b[0m\n\u001b[0m\u001b[1;32m    941\u001b[0m             \u001b[0;32mif\u001b[0m \u001b[0mn\u001b[0m \u001b[0;34m<\u001b[0m \u001b[0mlen\u001b[0m\u001b[0;34m(\u001b[0m\u001b[0mdata\u001b[0m\u001b[0;34m)\u001b[0m\u001b[0;34m:\u001b[0m\u001b[0;34m\u001b[0m\u001b[0;34m\u001b[0m\u001b[0m\n\u001b[1;32m    942\u001b[0m                 \u001b[0mself\u001b[0m\u001b[0;34m.\u001b[0m\u001b[0m_readbuffer\u001b[0m \u001b[0;34m=\u001b[0m \u001b[0mdata\u001b[0m\u001b[0;34m\u001b[0m\u001b[0;34m\u001b[0m\u001b[0m\n",
            "\u001b[0;32m/usr/lib/python3.8/zipfile.py\u001b[0m in \u001b[0;36m_read1\u001b[0;34m(self, n)\u001b[0m\n\u001b[1;32m   1014\u001b[0m         \u001b[0;32melif\u001b[0m \u001b[0mself\u001b[0m\u001b[0;34m.\u001b[0m\u001b[0m_compress_type\u001b[0m \u001b[0;34m==\u001b[0m \u001b[0mZIP_DEFLATED\u001b[0m\u001b[0;34m:\u001b[0m\u001b[0;34m\u001b[0m\u001b[0;34m\u001b[0m\u001b[0m\n\u001b[1;32m   1015\u001b[0m             \u001b[0mn\u001b[0m \u001b[0;34m=\u001b[0m \u001b[0mmax\u001b[0m\u001b[0;34m(\u001b[0m\u001b[0mn\u001b[0m\u001b[0;34m,\u001b[0m \u001b[0mself\u001b[0m\u001b[0;34m.\u001b[0m\u001b[0mMIN_READ_SIZE\u001b[0m\u001b[0;34m)\u001b[0m\u001b[0;34m\u001b[0m\u001b[0;34m\u001b[0m\u001b[0m\n\u001b[0;32m-> 1016\u001b[0;31m             \u001b[0mdata\u001b[0m \u001b[0;34m=\u001b[0m \u001b[0mself\u001b[0m\u001b[0;34m.\u001b[0m\u001b[0m_decompressor\u001b[0m\u001b[0;34m.\u001b[0m\u001b[0mdecompress\u001b[0m\u001b[0;34m(\u001b[0m\u001b[0mdata\u001b[0m\u001b[0;34m,\u001b[0m \u001b[0mn\u001b[0m\u001b[0;34m)\u001b[0m\u001b[0;34m\u001b[0m\u001b[0;34m\u001b[0m\u001b[0m\n\u001b[0m\u001b[1;32m   1017\u001b[0m             self._eof = (self._decompressor.eof or\n\u001b[1;32m   1018\u001b[0m                          \u001b[0mself\u001b[0m\u001b[0;34m.\u001b[0m\u001b[0m_compress_left\u001b[0m \u001b[0;34m<=\u001b[0m \u001b[0;36m0\u001b[0m \u001b[0;32mand\u001b[0m\u001b[0;34m\u001b[0m\u001b[0;34m\u001b[0m\u001b[0m\n",
            "\u001b[0;31mKeyboardInterrupt\u001b[0m: "
          ]
        }
      ],
      "source": [
        "import os, zipfile\n",
        "\n",
        "dir_name = \"./\"\n",
        "extension = \".zip\"\n",
        " \n",
        "os.chdir(dir_name) # change directory from working dir to dir with files\n",
        "\n",
        "for item in os.listdir(dir_name): # loop through items in dir\n",
        "    if item.endswith(extension): # check for \".zip\" extension\n",
        "        file_name = os.path.abspath(item) # get full path of files\n",
        "        zip_ref = zipfile.ZipFile(file_name) # create zipfile object\n",
        "        zip_ref.extractall(dir_name) # extract file to dir\n",
        "        zip_ref.close() # close file\n",
        "        os.remove(file_name) # delete zipped file"
      ]
    },
    {
      "cell_type": "code",
      "execution_count": null,
      "metadata": {
        "id": "zpTuYst398gs"
      },
      "outputs": [],
      "source": [
        "import shutil\n",
        "import os\n",
        "os.mkdir(\"/content/ecg_age/data\")\n",
        "sources = [\"WFDB/\"]\n",
        "dest1 = '/content/ecg_age/data/'\n",
        "\n",
        "\n",
        "for s in sources:\n",
        "  files = os.listdir(s)\n",
        "  for f in files:\n",
        "      shutil.move(s+f, dest1)"
      ]
    },
    {
      "cell_type": "code",
      "execution_count": 6,
      "metadata": {
        "_kg_hide-input": true,
        "execution": {
          "iopub.execute_input": "2022-05-31T14:25:18.521174Z",
          "iopub.status.busy": "2022-05-31T14:25:18.520855Z",
          "iopub.status.idle": "2022-05-31T14:25:25.957466Z",
          "shell.execute_reply": "2022-05-31T14:25:25.955896Z",
          "shell.execute_reply.started": "2022-05-31T14:25:18.521144Z"
        },
        "id": "BmvpEhIaXNSJ",
        "trusted": true,
        "outputId": "a6d00690-ee32-4385-c2bb-fc6e66f2f45e",
        "colab": {
          "base_uri": "https://localhost:8080/"
        }
      },
      "outputs": [
        {
          "output_type": "stream",
          "name": "stdout",
          "text": [
            "The autoreload extension is already loaded. To reload it, use:\n",
            "  %reload_ext autoreload\n"
          ]
        }
      ],
      "source": [
        "import pandas as pd\n",
        "from scipy import stats\n",
        "import numpy as np\n",
        "import matplotlib.pyplot as plt\n",
        "import seaborn as sns\n",
        "import tensorflow as tf\n",
        "import tqdm\n",
        "from scipy import signal\n",
        "from tensorflow import keras\n",
        "from tensorflow.keras.preprocessing.sequence import pad_sequences\n",
        "from sklearn.preprocessing import LabelEncoder\n",
        "from sklearn.utils.class_weight import compute_class_weight\n",
        "from sklearn.metrics import roc_auc_score\n",
        "from scipy.io import loadmat\n",
        "from scipy import signal\n",
        "from sklearn.preprocessing import MultiLabelBinarizer\n",
        "from sklearn.model_selection import StratifiedKFold\n",
        "from sklearn.metrics import confusion_matrix\n",
        "from sklearn.metrics import mean_absolute_error\n",
        "from sklearn.metrics import mean_squared_error\n",
        "from sklearn.metrics import accuracy_score\n",
        "from sklearn.metrics import f1_score\n",
        "from sklearn.preprocessing import MinMaxScaler\n",
        "import warnings\n",
        "warnings.filterwarnings('ignore')\n",
        "%matplotlib inline\n",
        "%load_ext autoreload\n",
        "%autoreload\n",
        "%reload_ext autoreload\n",
        "sns.set_style(\"dark\")"
      ]
    },
    {
      "cell_type": "code",
      "source": [
        "def load_challenge_data(filename):\n",
        "    x = loadmat(filename)\n",
        "    data = np.asarray(x[\"val\"], dtype=np.float64)\n",
        "    new_file = filename.replace(\".mat\", \".hea\")\n",
        "    input_header_file = os.path.join(new_file)\n",
        "    with open(input_header_file, \"r\") as f:\n",
        "        header_data = f.readlines()\n",
        "    return data, header_data\n",
        "\n",
        "def downsample_ecg(ecg, samples=1000, leads=12):\n",
        "  new_ecg = np.zeros((samples,leads))\n",
        "  for i,j in enumerate(ecg):\n",
        "    new_ecg[:,i] = signal.resample(j,samples)\n",
        "  return new_ecg\n",
        "\n",
        "def import_key_data(path):\n",
        "    gender = []\n",
        "    age = []\n",
        "    labels = []\n",
        "    ecg = []\n",
        "    for subdir, dirs, files in sorted(os.walk(path)):\n",
        "        for filename in tqdm.tqdm(files):\n",
        "            filepath = subdir + os.sep + filename\n",
        "            if filepath.endswith(\".mat\"):\n",
        "                data, header_data = load_challenge_data(filepath)\n",
        "                if (\n",
        "                    int(header_data[0].split(\" \")[3])\n",
        "                    // int(header_data[0].split(\" \")[2])\n",
        "                    == 10\n",
        "                ):\n",
        "                    labels.append(header_data[15][5:-1])\n",
        "                    ecg.append(downsample_ecg(data))\n",
        "                    gender.append(header_data[14][6:-1])\n",
        "                    age.append(header_data[13][6:-1])\n",
        "    return gender, age, labels, ecg\n",
        "\n",
        "\n",
        "\n",
        "\n",
        "def clean_up_age_data(age):\n",
        "    age[np.where(age == \"60.\")] = 60\n",
        "    age = age.astype(int)\n",
        "    return age\n",
        "\n",
        "\n",
        "def clean_up_gender_data(gender):\n",
        "    gender[np.where(gender == \"Male\")] = 0\n",
        "    gender[np.where(gender == \"male\")] = 0\n",
        "    gender[np.where(gender == \"M\")] = 0\n",
        "    gender[np.where(gender == \"Female\")] = 1\n",
        "    gender[np.where(gender == \"female\")] = 1\n",
        "    gender[np.where(gender == \"F\")] = 1\n",
        "    gender[np.where(gender == \"NaN\")] = 2\n",
        "    gender = gender.astype(np.int)\n",
        "    return gender\n"
      ],
      "metadata": {
        "id": "W0fZGlyE8nmu"
      },
      "execution_count": 29,
      "outputs": []
    },
    {
      "cell_type": "code",
      "source": [
        "import os"
      ],
      "metadata": {
        "id": "ckvmBL9l_1E5"
      },
      "execution_count": 30,
      "outputs": []
    },
    {
      "cell_type": "code",
      "execution_count": 31,
      "metadata": {
        "_kg_hide-input": true,
        "colab": {
          "base_uri": "https://localhost:8080/"
        },
        "execution": {
          "iopub.execute_input": "2022-05-31T14:25:25.961233Z",
          "iopub.status.busy": "2022-05-31T14:25:25.960438Z",
          "iopub.status.idle": "2022-05-31T14:36:53.050758Z",
          "shell.execute_reply": "2022-05-31T14:36:53.049532Z",
          "shell.execute_reply.started": "2022-05-31T14:25:25.961183Z"
        },
        "id": "6ou1aKAnXNSK",
        "outputId": "a7e9c964-ffdc-4006-f08c-5db97036a940",
        "trusted": true
      },
      "outputs": [
        {
          "output_type": "stream",
          "name": "stdout",
          "text": [
            "Collecting labels, ECG filenames and metadata...\n"
          ]
        },
        {
          "output_type": "stream",
          "name": "stderr",
          "text": [
            "100%|██████████| 43674/43674 [01:10<00:00, 623.77it/s]\n"
          ]
        },
        {
          "output_type": "stream",
          "name": "stdout",
          "text": [
            "Total number of patients found: 21837\n"
          ]
        }
      ],
      "source": [
        "######################################################\n",
        "print(\"Collecting labels, ECG filenames and metadata...\")\n",
        "gender, age, labels, ecgs = import_key_data(\"/content/ecg_age/data/\")\n",
        "ecgs = np.asarray(ecgs)\n",
        "age = np.asarray(age)\n",
        "gender = np.asarray(gender)\n",
        "labels = np.asarray(labels)\n",
        "print(f\"Total number of patients found: {len(age)}\")"
      ]
    },
    {
      "cell_type": "code",
      "source": [
        "ecgs = np.delete(ecgs, np.where(age == \"NaN\"), axis=0)\n",
        "gender = np.delete(gender, np.where(age == \"NaN\"))\n",
        "labels = np.delete(labels, np.where(age == \"NaN\"))\n",
        "age = np.delete(age, np.where(age == \"NaN\"))"
      ],
      "metadata": {
        "id": "AbUs_4hX_2_j"
      },
      "execution_count": 45,
      "outputs": []
    },
    {
      "cell_type": "code",
      "execution_count": 46,
      "metadata": {
        "_kg_hide-input": true,
        "colab": {
          "base_uri": "https://localhost:8080/"
        },
        "execution": {
          "iopub.execute_input": "2022-05-31T14:36:53.381532Z",
          "iopub.status.busy": "2022-05-31T14:36:53.378988Z",
          "iopub.status.idle": "2022-05-31T14:36:53.617739Z",
          "shell.execute_reply": "2022-05-31T14:36:53.616633Z",
          "shell.execute_reply.started": "2022-05-31T14:36:53.381461Z"
        },
        "id": "Keo8bt5nXNSN",
        "outputId": "ded3c475-7c71-4122-c669-b78ae215eb41",
        "trusted": true
      },
      "outputs": [
        {
          "output_type": "stream",
          "name": "stdout",
          "text": [
            "Total number of patients left after data cleaning: 21748\n"
          ]
        }
      ],
      "source": [
        "age = clean_up_age_data(age)\n",
        "gender = clean_up_gender_data(gender)\n",
        "\n",
        "print(f\"Total number of patients left after data cleaning: {len(age)}\")"
      ]
    },
    {
      "cell_type": "code",
      "execution_count": 47,
      "metadata": {
        "colab": {
          "base_uri": "https://localhost:8080/"
        },
        "execution": {
          "iopub.execute_input": "2022-05-31T14:36:53.696689Z",
          "iopub.status.busy": "2022-05-31T14:36:53.694035Z",
          "iopub.status.idle": "2022-05-31T14:36:53.711576Z",
          "shell.execute_reply": "2022-05-31T14:36:53.710079Z",
          "shell.execute_reply.started": "2022-05-31T14:36:53.696644Z"
        },
        "id": "zWhF7DewXNSO",
        "outputId": "6a8daccc-529e-42a2-85f9-3acd11707943",
        "trusted": true
      },
      "outputs": [
        {
          "output_type": "stream",
          "name": "stdout",
          "text": [
            "Total number of patients left after selection and data cleaning: 21748\n"
          ]
        }
      ],
      "source": [
        "print(f\"Total number of patients left after selection and data cleaning: {len(age)}\")"
      ]
    },
    {
      "cell_type": "code",
      "source": [
        "!pip install tensorflow-probability==0.9.0 \n",
        "!pip install tensorflow==2.2.0"
      ],
      "metadata": {
        "id": "wzeA__VpJZr5",
        "outputId": "c5214acd-3c85-4443-e042-91cf3394a3c2",
        "colab": {
          "base_uri": "https://localhost:8080/"
        }
      },
      "execution_count": 54,
      "outputs": [
        {
          "output_type": "stream",
          "name": "stdout",
          "text": [
            "Looking in indexes: https://pypi.org/simple, https://us-python.pkg.dev/colab-wheels/public/simple/\n",
            "Requirement already satisfied: tensorflow-probability==0.9.0 in /usr/local/lib/python3.8/dist-packages (0.9.0)\n",
            "Requirement already satisfied: cloudpickle>=1.2.2 in /usr/local/lib/python3.8/dist-packages (from tensorflow-probability==0.9.0) (2.2.0)\n",
            "Requirement already satisfied: decorator in /usr/local/lib/python3.8/dist-packages (from tensorflow-probability==0.9.0) (4.4.2)\n",
            "Requirement already satisfied: six>=1.10.0 in /usr/local/lib/python3.8/dist-packages (from tensorflow-probability==0.9.0) (1.15.0)\n",
            "Requirement already satisfied: numpy>=1.13.3 in /usr/local/lib/python3.8/dist-packages (from tensorflow-probability==0.9.0) (1.21.6)\n",
            "Requirement already satisfied: gast>=0.2 in /usr/local/lib/python3.8/dist-packages (from tensorflow-probability==0.9.0) (0.4.0)\n",
            "Looking in indexes: https://pypi.org/simple, https://us-python.pkg.dev/colab-wheels/public/simple/\n",
            "Collecting tensorflow==2.2.0\n",
            "  Downloading tensorflow-2.2.0-cp38-cp38-manylinux2010_x86_64.whl (516.3 MB)\n",
            "\u001b[2K     \u001b[90m━━━━━━━━━━━━━━━━━━━━━━━━━━━━━━━━━━━━━━━\u001b[0m \u001b[32m516.3/516.3 MB\u001b[0m \u001b[31m3.4 MB/s\u001b[0m eta \u001b[36m0:00:00\u001b[0m\n",
            "\u001b[?25hCollecting h5py<2.11.0,>=2.10.0\n",
            "  Downloading h5py-2.10.0-cp38-cp38-manylinux1_x86_64.whl (2.9 MB)\n",
            "\u001b[2K     \u001b[90m━━━━━━━━━━━━━━━━━━━━━━━━━━━━━━━━━━━━━━━━\u001b[0m \u001b[32m2.9/2.9 MB\u001b[0m \u001b[31m91.3 MB/s\u001b[0m eta \u001b[36m0:00:00\u001b[0m\n",
            "\u001b[?25hRequirement already satisfied: numpy<2.0,>=1.16.0 in /usr/local/lib/python3.8/dist-packages (from tensorflow==2.2.0) (1.21.6)\n",
            "Collecting scipy==1.4.1\n",
            "  Downloading scipy-1.4.1-cp38-cp38-manylinux1_x86_64.whl (26.0 MB)\n",
            "\u001b[2K     \u001b[90m━━━━━━━━━━━━━━━━━━━━━━━━━━━━━━━━━━━━━━━━\u001b[0m \u001b[32m26.0/26.0 MB\u001b[0m \u001b[31m43.9 MB/s\u001b[0m eta \u001b[36m0:00:00\u001b[0m\n",
            "\u001b[?25hRequirement already satisfied: absl-py>=0.7.0 in /usr/local/lib/python3.8/dist-packages (from tensorflow==2.2.0) (1.3.0)\n",
            "Requirement already satisfied: opt-einsum>=2.3.2 in /usr/local/lib/python3.8/dist-packages (from tensorflow==2.2.0) (3.3.0)\n",
            "Requirement already satisfied: protobuf>=3.8.0 in /usr/local/lib/python3.8/dist-packages (from tensorflow==2.2.0) (3.19.6)\n",
            "Requirement already satisfied: wheel>=0.26 in /usr/local/lib/python3.8/dist-packages (from tensorflow==2.2.0) (0.38.4)\n",
            "Requirement already satisfied: wrapt>=1.11.1 in /usr/local/lib/python3.8/dist-packages (from tensorflow==2.2.0) (1.14.1)\n",
            "Requirement already satisfied: grpcio>=1.8.6 in /usr/local/lib/python3.8/dist-packages (from tensorflow==2.2.0) (1.51.1)\n",
            "Requirement already satisfied: termcolor>=1.1.0 in /usr/local/lib/python3.8/dist-packages (from tensorflow==2.2.0) (2.2.0)\n",
            "Requirement already satisfied: keras-preprocessing>=1.1.0 in /usr/local/lib/python3.8/dist-packages (from tensorflow==2.2.0) (1.1.2)\n",
            "Collecting tensorboard<2.3.0,>=2.2.0\n",
            "  Downloading tensorboard-2.2.2-py3-none-any.whl (3.0 MB)\n",
            "\u001b[2K     \u001b[90m━━━━━━━━━━━━━━━━━━━━━━━━━━━━━━━━━━━━━━━━\u001b[0m \u001b[32m3.0/3.0 MB\u001b[0m \u001b[31m95.4 MB/s\u001b[0m eta \u001b[36m0:00:00\u001b[0m\n",
            "\u001b[?25hCollecting gast==0.3.3\n",
            "  Downloading gast-0.3.3-py2.py3-none-any.whl (9.7 kB)\n",
            "Requirement already satisfied: six>=1.12.0 in /usr/local/lib/python3.8/dist-packages (from tensorflow==2.2.0) (1.15.0)\n",
            "Requirement already satisfied: google-pasta>=0.1.8 in /usr/local/lib/python3.8/dist-packages (from tensorflow==2.2.0) (0.2.0)\n",
            "Requirement already satisfied: astunparse==1.6.3 in /usr/local/lib/python3.8/dist-packages (from tensorflow==2.2.0) (1.6.3)\n",
            "Collecting tensorflow-estimator<2.3.0,>=2.2.0\n",
            "  Downloading tensorflow_estimator-2.2.0-py2.py3-none-any.whl (454 kB)\n",
            "\u001b[2K     \u001b[90m━━━━━━━━━━━━━━━━━━━━━━━━━━━━━━━━━━━━━━\u001b[0m \u001b[32m454.6/454.6 KB\u001b[0m \u001b[31m45.5 MB/s\u001b[0m eta \u001b[36m0:00:00\u001b[0m\n",
            "\u001b[?25hCollecting google-auth<2,>=1.6.3\n",
            "  Downloading google_auth-1.35.0-py2.py3-none-any.whl (152 kB)\n",
            "\u001b[2K     \u001b[90m━━━━━━━━━━━━━━━━━━━━━━━━━━━━━━━━━━━━━━\u001b[0m \u001b[32m152.9/152.9 KB\u001b[0m \u001b[31m21.1 MB/s\u001b[0m eta \u001b[36m0:00:00\u001b[0m\n",
            "\u001b[?25hRequirement already satisfied: google-auth-oauthlib<0.5,>=0.4.1 in /usr/local/lib/python3.8/dist-packages (from tensorboard<2.3.0,>=2.2.0->tensorflow==2.2.0) (0.4.6)\n",
            "Requirement already satisfied: requests<3,>=2.21.0 in /usr/local/lib/python3.8/dist-packages (from tensorboard<2.3.0,>=2.2.0->tensorflow==2.2.0) (2.25.1)\n",
            "Requirement already satisfied: setuptools>=41.0.0 in /usr/local/lib/python3.8/dist-packages (from tensorboard<2.3.0,>=2.2.0->tensorflow==2.2.0) (57.4.0)\n",
            "Requirement already satisfied: werkzeug>=0.11.15 in /usr/local/lib/python3.8/dist-packages (from tensorboard<2.3.0,>=2.2.0->tensorflow==2.2.0) (1.0.1)\n",
            "Requirement already satisfied: tensorboard-plugin-wit>=1.6.0 in /usr/local/lib/python3.8/dist-packages (from tensorboard<2.3.0,>=2.2.0->tensorflow==2.2.0) (1.8.1)\n",
            "Requirement already satisfied: markdown>=2.6.8 in /usr/local/lib/python3.8/dist-packages (from tensorboard<2.3.0,>=2.2.0->tensorflow==2.2.0) (3.4.1)\n",
            "Requirement already satisfied: rsa<5,>=3.1.4 in /usr/local/lib/python3.8/dist-packages (from google-auth<2,>=1.6.3->tensorboard<2.3.0,>=2.2.0->tensorflow==2.2.0) (4.9)\n",
            "Requirement already satisfied: pyasn1-modules>=0.2.1 in /usr/local/lib/python3.8/dist-packages (from google-auth<2,>=1.6.3->tensorboard<2.3.0,>=2.2.0->tensorflow==2.2.0) (0.2.8)\n",
            "Collecting cachetools<5.0,>=2.0.0\n",
            "  Downloading cachetools-4.2.4-py3-none-any.whl (10 kB)\n",
            "Requirement already satisfied: requests-oauthlib>=0.7.0 in /usr/local/lib/python3.8/dist-packages (from google-auth-oauthlib<0.5,>=0.4.1->tensorboard<2.3.0,>=2.2.0->tensorflow==2.2.0) (1.3.1)\n",
            "Requirement already satisfied: importlib-metadata>=4.4 in /usr/local/lib/python3.8/dist-packages (from markdown>=2.6.8->tensorboard<2.3.0,>=2.2.0->tensorflow==2.2.0) (6.0.0)\n",
            "Requirement already satisfied: idna<3,>=2.5 in /usr/local/lib/python3.8/dist-packages (from requests<3,>=2.21.0->tensorboard<2.3.0,>=2.2.0->tensorflow==2.2.0) (2.10)\n",
            "Requirement already satisfied: urllib3<1.27,>=1.21.1 in /usr/local/lib/python3.8/dist-packages (from requests<3,>=2.21.0->tensorboard<2.3.0,>=2.2.0->tensorflow==2.2.0) (1.24.3)\n",
            "Requirement already satisfied: certifi>=2017.4.17 in /usr/local/lib/python3.8/dist-packages (from requests<3,>=2.21.0->tensorboard<2.3.0,>=2.2.0->tensorflow==2.2.0) (2022.12.7)\n",
            "Requirement already satisfied: chardet<5,>=3.0.2 in /usr/local/lib/python3.8/dist-packages (from requests<3,>=2.21.0->tensorboard<2.3.0,>=2.2.0->tensorflow==2.2.0) (4.0.0)\n",
            "Requirement already satisfied: zipp>=0.5 in /usr/local/lib/python3.8/dist-packages (from importlib-metadata>=4.4->markdown>=2.6.8->tensorboard<2.3.0,>=2.2.0->tensorflow==2.2.0) (3.11.0)\n",
            "Requirement already satisfied: pyasn1<0.5.0,>=0.4.6 in /usr/local/lib/python3.8/dist-packages (from pyasn1-modules>=0.2.1->google-auth<2,>=1.6.3->tensorboard<2.3.0,>=2.2.0->tensorflow==2.2.0) (0.4.8)\n",
            "Requirement already satisfied: oauthlib>=3.0.0 in /usr/local/lib/python3.8/dist-packages (from requests-oauthlib>=0.7.0->google-auth-oauthlib<0.5,>=0.4.1->tensorboard<2.3.0,>=2.2.0->tensorflow==2.2.0) (3.2.2)\n",
            "Installing collected packages: tensorflow-estimator, scipy, h5py, gast, cachetools, google-auth, tensorboard, tensorflow\n",
            "  Attempting uninstall: tensorflow-estimator\n",
            "    Found existing installation: tensorflow-estimator 2.9.0\n",
            "    Uninstalling tensorflow-estimator-2.9.0:\n",
            "      Successfully uninstalled tensorflow-estimator-2.9.0\n",
            "  Attempting uninstall: scipy\n",
            "    Found existing installation: scipy 1.7.3\n",
            "    Uninstalling scipy-1.7.3:\n",
            "      Successfully uninstalled scipy-1.7.3\n",
            "  Attempting uninstall: h5py\n",
            "    Found existing installation: h5py 3.1.0\n",
            "    Uninstalling h5py-3.1.0:\n",
            "      Successfully uninstalled h5py-3.1.0\n",
            "  Attempting uninstall: gast\n",
            "    Found existing installation: gast 0.4.0\n",
            "    Uninstalling gast-0.4.0:\n",
            "      Successfully uninstalled gast-0.4.0\n",
            "  Attempting uninstall: cachetools\n",
            "    Found existing installation: cachetools 5.2.1\n",
            "    Uninstalling cachetools-5.2.1:\n",
            "      Successfully uninstalled cachetools-5.2.1\n",
            "  Attempting uninstall: google-auth\n",
            "    Found existing installation: google-auth 2.16.0\n",
            "    Uninstalling google-auth-2.16.0:\n",
            "      Successfully uninstalled google-auth-2.16.0\n",
            "  Attempting uninstall: tensorboard\n",
            "    Found existing installation: tensorboard 2.9.1\n",
            "    Uninstalling tensorboard-2.9.1:\n",
            "      Successfully uninstalled tensorboard-2.9.1\n",
            "  Attempting uninstall: tensorflow\n",
            "    Found existing installation: tensorflow 2.9.2\n",
            "    Uninstalling tensorflow-2.9.2:\n",
            "      Successfully uninstalled tensorflow-2.9.2\n",
            "\u001b[31mERROR: pip's dependency resolver does not currently take into account all the packages that are installed. This behaviour is the source of the following dependency conflicts.\n",
            "xarray-einstats 0.4.0 requires scipy>=1.6, but you have scipy 1.4.1 which is incompatible.\n",
            "plotnine 0.8.0 requires scipy>=1.5.0, but you have scipy 1.4.1 which is incompatible.\n",
            "jaxlib 0.3.25+cuda11.cudnn805 requires scipy>=1.5, but you have scipy 1.4.1 which is incompatible.\n",
            "jax 0.3.25 requires scipy>=1.5, but you have scipy 1.4.1 which is incompatible.\n",
            "google-api-core 2.11.0 requires google-auth<3.0dev,>=2.14.1, but you have google-auth 1.35.0 which is incompatible.\u001b[0m\u001b[31m\n",
            "\u001b[0mSuccessfully installed cachetools-4.2.4 gast-0.3.3 google-auth-1.35.0 h5py-2.10.0 scipy-1.4.1 tensorboard-2.2.2 tensorflow-2.2.0 tensorflow-estimator-2.2.0\n"
          ]
        }
      ]
    },
    {
      "cell_type": "code",
      "source": [
        "import tensorflow as tf\n",
        "import tensorflow_probability as tfp\n",
        "tfd = tfp.distributions"
      ],
      "metadata": {
        "id": "oLiRXKXgJqIr"
      },
      "execution_count": 56,
      "outputs": []
    },
    {
      "cell_type": "code",
      "source": [
        "n_batches = (len(ecgs) * 0.8)//16\n",
        "n_batches"
      ],
      "metadata": {
        "id": "gqnc592lLllf",
        "outputId": "5daa1a54-054a-4b95-b943-7ded1bd7af2d",
        "colab": {
          "base_uri": "https://localhost:8080/"
        }
      },
      "execution_count": 59,
      "outputs": [
        {
          "output_type": "execute_result",
          "data": {
            "text/plain": [
              "1087.0"
            ]
          },
          "metadata": {},
          "execution_count": 59
        }
      ]
    },
    {
      "cell_type": "code",
      "source": [
        "\n",
        "\n",
        "\n",
        "def _inception_module(\n",
        "    input_tensor,\n",
        "    stride=1,\n",
        "    activation=\"linear\",\n",
        "    use_bottleneck=True,\n",
        "    kernel_size=40,\n",
        "    bottleneck_size=32,\n",
        "    nb_filters=32,\n",
        "):\n",
        "\n",
        "    if use_bottleneck and int(input_tensor.shape[-1]) > 1:\n",
        "        input_inception = tf.keras.layers.Conv1D(\n",
        "            filters=bottleneck_size,\n",
        "            kernel_size=1,\n",
        "            padding=\"same\",\n",
        "            activation=activation,\n",
        "            use_bias=False,\n",
        "        )(input_tensor)\n",
        "    else:\n",
        "        input_inception = input_tensor\n",
        "\n",
        "    # kernel_size_s = [3, 5, 8, 11, 17]\n",
        "    kernel_size_s = [kernel_size // (2**i) for i in range(3)]\n",
        "\n",
        "    conv_list = []\n",
        "\n",
        "    for i in range(len(kernel_size_s)):\n",
        "        conv_list.append(\n",
        "            tf.keras.layers.Conv1D(\n",
        "                filters=nb_filters,\n",
        "                kernel_size=kernel_size_s[i],\n",
        "                strides=stride,\n",
        "                padding=\"same\",\n",
        "                activation=activation,\n",
        "                use_bias=False,\n",
        "            )(input_inception)\n",
        "        )\n",
        "\n",
        "    max_pool_1 = tf.keras.layers.MaxPool1D(pool_size=3, strides=stride, padding=\"same\")(\n",
        "        input_tensor\n",
        "    )\n",
        "\n",
        "    conv_6 = tf.keras.layers.Conv1D(\n",
        "        filters=nb_filters,\n",
        "        kernel_size=1,\n",
        "        padding=\"same\",\n",
        "        activation=activation,\n",
        "        use_bias=False,\n",
        "    )(max_pool_1)\n",
        "\n",
        "    conv_list.append(conv_6)\n",
        "\n",
        "    x = tf.keras.layers.Concatenate(axis=2)(conv_list)\n",
        "    x = tf.keras.layers.BatchNormalization()(x)\n",
        "    x = tf.keras.layers.Activation(activation=\"relu\")(x)\n",
        "    return x\n",
        "\n",
        "\n",
        "def _shortcut_layer(input_tensor, out_tensor):\n",
        "    shortcut_y = tf.keras.layers.Conv1D(\n",
        "        filters=int(out_tensor.shape[-1]), kernel_size=1, padding=\"same\", use_bias=False\n",
        "    )(input_tensor)\n",
        "    shortcut_y = tf.keras.layers.BatchNormalization()(shortcut_y)\n",
        "\n",
        "    x = tf.keras.layers.Add()([shortcut_y, out_tensor])\n",
        "    x = tf.keras.layers.Activation(\"relu\")(x)\n",
        "    return x\n",
        "\n",
        "\n",
        "def build_model(\n",
        "    input_shape,\n",
        "    nb_classes: int,\n",
        "    depth: int = 6,\n",
        "    use_residual: bool = True,\n",
        ")-> tf.keras.models.Model:\n",
        "    \"\"\"\n",
        "    Model proposed by HI Fawas et al 2019 \"Finding AlexNet for Time Series Classification - InceptionTime\"\n",
        "    \"\"\"\n",
        "    input_layer = tf.keras.layers.Input(input_shape)\n",
        "\n",
        "    x = input_layer\n",
        "    input_res = input_layer\n",
        "\n",
        "    for d in range(depth):\n",
        "\n",
        "        x = _inception_module(x)\n",
        "\n",
        "        if use_residual and d % 3 == 2:\n",
        "            x = _shortcut_layer(input_res, x)\n",
        "            input_res = x\n",
        "\n",
        "    gap_layer = tf.keras.layers.GlobalAveragePooling1D()(x)\n",
        "\n",
        "    output_layer = tf.keras.layers.Dense(units=nb_classes, activation=\"linear\")(\n",
        "        gap_layer\n",
        "    )\n",
        "\n",
        "    model = tf.keras.models.Model(inputs=input_layer, outputs=output_layer)\n",
        "    model.compile(\n",
        "        loss=tf.keras.losses.MeanAbsoluteError(),\n",
        "        optimizer=tf.keras.optimizers.Adam(learning_rate=0.001),\n",
        "        metrics=[tf.keras.metrics.MeanSquaredError()],\n",
        "    )\n",
        "\n",
        "    return model\n"
      ],
      "metadata": {
        "id": "CTtIJ_J-942_"
      },
      "execution_count": 48,
      "outputs": []
    },
    {
      "cell_type": "markdown",
      "source": [
        "Bruker denne URLen (https://keras.io/examples/keras_recipes/bayesian_neural_networks/) som hjelp til å implementere Bayesian layers"
      ],
      "metadata": {
        "id": "rKvwoQItWUIA"
      }
    },
    {
      "cell_type": "code",
      "source": [
        "def negative_loglikelihood(targets, estimated_distribution):\n",
        "    return -estimated_distribution.log_prob(targets)"
      ],
      "metadata": {
        "id": "FRPx7pOQQaVi"
      },
      "execution_count": 69,
      "outputs": []
    },
    {
      "cell_type": "code",
      "source": [
        "# Define the prior weight distribution as Normal of mean=0 and stddev=1.\n",
        "# Note that, in this example, the we prior distribution is not trainable,\n",
        "# as we fix its parameters.\n",
        "def prior(kernel_size, bias_size, dtype=None):\n",
        "    n = kernel_size + bias_size\n",
        "    prior_model = keras.Sequential(\n",
        "        [\n",
        "            tfp.layers.DistributionLambda(\n",
        "                lambda t: tfp.distributions.MultivariateNormalDiag(\n",
        "                    loc=tf.zeros(n), scale_diag=tf.ones(n)\n",
        "                )\n",
        "            )\n",
        "        ]\n",
        "    )\n",
        "    return prior_model\n",
        "\n",
        "\n",
        "# Define variational posterior weight distribution as multivariate Gaussian.\n",
        "# Note that the learnable parameters for this distribution are the means,\n",
        "# variances, and covariances.\n",
        "def posterior(kernel_size, bias_size, dtype=None):\n",
        "    n = kernel_size + bias_size\n",
        "    posterior_model = keras.Sequential(\n",
        "        [\n",
        "            tfp.layers.VariableLayer(\n",
        "                tfp.layers.MultivariateNormalTriL.params_size(n), dtype=dtype\n",
        "            ),\n",
        "            tfp.layers.MultivariateNormalTriL(n),\n",
        "        ]\n",
        "    )\n",
        "    return posterior_model"
      ],
      "metadata": {
        "id": "xwlut6TuVByx"
      },
      "execution_count": 99,
      "outputs": []
    },
    {
      "cell_type": "code",
      "source": [
        "\n",
        "\n",
        "def build_bayesian_model(\n",
        "    input_shape,\n",
        "    nb_classes: int,\n",
        "    depth: int = 6,\n",
        "    use_residual: bool = True,\n",
        ")-> tf.keras.models.Model:\n",
        "    \"\"\"\n",
        "    Model proposed by HI Fawas et al 2019 \"Finding AlexNet for Time Series Classification - InceptionTime\"\n",
        "    \"\"\"\n",
        "    input_layer = tf.keras.layers.Input(input_shape)\n",
        "\n",
        "    x = input_layer\n",
        "    input_res = input_layer\n",
        "\n",
        "    for d in range(depth):\n",
        "\n",
        "        x = _inception_module(x)\n",
        "\n",
        "        if use_residual and d % 3 == 2:\n",
        "            x = _shortcut_layer(input_res, x)\n",
        "            input_res = x\n",
        "\n",
        "    gap_layer = tf.keras.layers.GlobalAveragePooling1D()(x)\n",
        "\n",
        "    features = tfp.layers.DenseVariational(\n",
        "            units=8,\n",
        "            make_prior_fn=prior,\n",
        "            make_posterior_fn=posterior,\n",
        "            kl_weight=1 / 1087, # 1/train_size\n",
        "            activation=\"sigmoid\",\n",
        "        )(gap_layer)\n",
        "    distribution_params = tf.keras.layers.Dense(units=2)(features)\n",
        "\n",
        "    output_layer = tfp.layers.IndependentNormal(1)(distribution_params)\n",
        "\n",
        "    model = tf.keras.models.Model(inputs=input_layer, outputs=output_layer)\n",
        "    return model\n"
      ],
      "metadata": {
        "id": "rEDHIScsK243"
      },
      "execution_count": 106,
      "outputs": []
    },
    {
      "cell_type": "code",
      "source": [
        "def run_experiment(model, loss, xtrain,ytrain):\n",
        "\n",
        "    model.compile(\n",
        "        optimizer=keras.optimizers.RMSprop(learning_rate=0.001),\n",
        "        loss=loss,\n",
        "        metrics=[keras.metrics.RootMeanSquaredError()],\n",
        "    )\n",
        "\n",
        "    print(\"Start training the model...\")\n",
        "    model.fit(x=xtrain,y=ytrain, epochs=30)\n",
        "    print(\"Model training finished.\")\n",
        "    #_, rmse = model.evaluate(train_dataset, verbose=0)\n",
        "    #print(f\"Train RMSE: {round(rmse, 3)}\")"
      ],
      "metadata": {
        "id": "uOtuavXsRyK2"
      },
      "execution_count": 146,
      "outputs": []
    },
    {
      "cell_type": "code",
      "source": [
        "model = build_bayesian_model((samp_freq*time,num_leads), 1)"
      ],
      "metadata": {
        "id": "W_xfxeKkMd1l"
      },
      "execution_count": 147,
      "outputs": []
    },
    {
      "cell_type": "code",
      "source": [
        "model.summary()"
      ],
      "metadata": {
        "id": "IRNsl4CATGra",
        "outputId": "caddcc38-e459-444a-8166-14581ddfa5ee",
        "colab": {
          "base_uri": "https://localhost:8080/"
        }
      },
      "execution_count": 148,
      "outputs": [
        {
          "output_type": "stream",
          "name": "stdout",
          "text": [
            "Model: \"model_19\"\n",
            "__________________________________________________________________________________________________\n",
            " Layer (type)                   Output Shape         Param #     Connected to                     \n",
            "==================================================================================================\n",
            " input_25 (InputLayer)          [(None, 1000, 12)]   0           []                               \n",
            "                                                                                                  \n",
            " conv1d_768 (Conv1D)            (None, 1000, 32)     384         ['input_25[0][0]']               \n",
            "                                                                                                  \n",
            " max_pooling1d_144 (MaxPooling1  (None, 1000, 12)    0           ['input_25[0][0]']               \n",
            " D)                                                                                               \n",
            "                                                                                                  \n",
            " conv1d_769 (Conv1D)            (None, 1000, 32)     40960       ['conv1d_768[0][0]']             \n",
            "                                                                                                  \n",
            " conv1d_770 (Conv1D)            (None, 1000, 32)     20480       ['conv1d_768[0][0]']             \n",
            "                                                                                                  \n",
            " conv1d_771 (Conv1D)            (None, 1000, 32)     10240       ['conv1d_768[0][0]']             \n",
            "                                                                                                  \n",
            " conv1d_772 (Conv1D)            (None, 1000, 32)     384         ['max_pooling1d_144[0][0]']      \n",
            "                                                                                                  \n",
            " concatenate_144 (Concatenate)  (None, 1000, 128)    0           ['conv1d_769[0][0]',             \n",
            "                                                                  'conv1d_770[0][0]',             \n",
            "                                                                  'conv1d_771[0][0]',             \n",
            "                                                                  'conv1d_772[0][0]']             \n",
            "                                                                                                  \n",
            " batch_normalization_192 (Batch  (None, 1000, 128)   512         ['concatenate_144[0][0]']        \n",
            " Normalization)                                                                                   \n",
            "                                                                                                  \n",
            " activation_192 (Activation)    (None, 1000, 128)    0           ['batch_normalization_192[0][0]']\n",
            "                                                                                                  \n",
            " conv1d_773 (Conv1D)            (None, 1000, 32)     4096        ['activation_192[0][0]']         \n",
            "                                                                                                  \n",
            " max_pooling1d_145 (MaxPooling1  (None, 1000, 128)   0           ['activation_192[0][0]']         \n",
            " D)                                                                                               \n",
            "                                                                                                  \n",
            " conv1d_774 (Conv1D)            (None, 1000, 32)     40960       ['conv1d_773[0][0]']             \n",
            "                                                                                                  \n",
            " conv1d_775 (Conv1D)            (None, 1000, 32)     20480       ['conv1d_773[0][0]']             \n",
            "                                                                                                  \n",
            " conv1d_776 (Conv1D)            (None, 1000, 32)     10240       ['conv1d_773[0][0]']             \n",
            "                                                                                                  \n",
            " conv1d_777 (Conv1D)            (None, 1000, 32)     4096        ['max_pooling1d_145[0][0]']      \n",
            "                                                                                                  \n",
            " concatenate_145 (Concatenate)  (None, 1000, 128)    0           ['conv1d_774[0][0]',             \n",
            "                                                                  'conv1d_775[0][0]',             \n",
            "                                                                  'conv1d_776[0][0]',             \n",
            "                                                                  'conv1d_777[0][0]']             \n",
            "                                                                                                  \n",
            " batch_normalization_193 (Batch  (None, 1000, 128)   512         ['concatenate_145[0][0]']        \n",
            " Normalization)                                                                                   \n",
            "                                                                                                  \n",
            " activation_193 (Activation)    (None, 1000, 128)    0           ['batch_normalization_193[0][0]']\n",
            "                                                                                                  \n",
            " conv1d_778 (Conv1D)            (None, 1000, 32)     4096        ['activation_193[0][0]']         \n",
            "                                                                                                  \n",
            " max_pooling1d_146 (MaxPooling1  (None, 1000, 128)   0           ['activation_193[0][0]']         \n",
            " D)                                                                                               \n",
            "                                                                                                  \n",
            " conv1d_779 (Conv1D)            (None, 1000, 32)     40960       ['conv1d_778[0][0]']             \n",
            "                                                                                                  \n",
            " conv1d_780 (Conv1D)            (None, 1000, 32)     20480       ['conv1d_778[0][0]']             \n",
            "                                                                                                  \n",
            " conv1d_781 (Conv1D)            (None, 1000, 32)     10240       ['conv1d_778[0][0]']             \n",
            "                                                                                                  \n",
            " conv1d_782 (Conv1D)            (None, 1000, 32)     4096        ['max_pooling1d_146[0][0]']      \n",
            "                                                                                                  \n",
            " concatenate_146 (Concatenate)  (None, 1000, 128)    0           ['conv1d_779[0][0]',             \n",
            "                                                                  'conv1d_780[0][0]',             \n",
            "                                                                  'conv1d_781[0][0]',             \n",
            "                                                                  'conv1d_782[0][0]']             \n",
            "                                                                                                  \n",
            " conv1d_783 (Conv1D)            (None, 1000, 128)    1536        ['input_25[0][0]']               \n",
            "                                                                                                  \n",
            " batch_normalization_194 (Batch  (None, 1000, 128)   512         ['concatenate_146[0][0]']        \n",
            " Normalization)                                                                                   \n",
            "                                                                                                  \n",
            " batch_normalization_195 (Batch  (None, 1000, 128)   512         ['conv1d_783[0][0]']             \n",
            " Normalization)                                                                                   \n",
            "                                                                                                  \n",
            " activation_194 (Activation)    (None, 1000, 128)    0           ['batch_normalization_194[0][0]']\n",
            "                                                                                                  \n",
            " add_48 (Add)                   (None, 1000, 128)    0           ['batch_normalization_195[0][0]',\n",
            "                                                                  'activation_194[0][0]']         \n",
            "                                                                                                  \n",
            " activation_195 (Activation)    (None, 1000, 128)    0           ['add_48[0][0]']                 \n",
            "                                                                                                  \n",
            " conv1d_784 (Conv1D)            (None, 1000, 32)     4096        ['activation_195[0][0]']         \n",
            "                                                                                                  \n",
            " max_pooling1d_147 (MaxPooling1  (None, 1000, 128)   0           ['activation_195[0][0]']         \n",
            " D)                                                                                               \n",
            "                                                                                                  \n",
            " conv1d_785 (Conv1D)            (None, 1000, 32)     40960       ['conv1d_784[0][0]']             \n",
            "                                                                                                  \n",
            " conv1d_786 (Conv1D)            (None, 1000, 32)     20480       ['conv1d_784[0][0]']             \n",
            "                                                                                                  \n",
            " conv1d_787 (Conv1D)            (None, 1000, 32)     10240       ['conv1d_784[0][0]']             \n",
            "                                                                                                  \n",
            " conv1d_788 (Conv1D)            (None, 1000, 32)     4096        ['max_pooling1d_147[0][0]']      \n",
            "                                                                                                  \n",
            " concatenate_147 (Concatenate)  (None, 1000, 128)    0           ['conv1d_785[0][0]',             \n",
            "                                                                  'conv1d_786[0][0]',             \n",
            "                                                                  'conv1d_787[0][0]',             \n",
            "                                                                  'conv1d_788[0][0]']             \n",
            "                                                                                                  \n",
            " batch_normalization_196 (Batch  (None, 1000, 128)   512         ['concatenate_147[0][0]']        \n",
            " Normalization)                                                                                   \n",
            "                                                                                                  \n",
            " activation_196 (Activation)    (None, 1000, 128)    0           ['batch_normalization_196[0][0]']\n",
            "                                                                                                  \n",
            " conv1d_789 (Conv1D)            (None, 1000, 32)     4096        ['activation_196[0][0]']         \n",
            "                                                                                                  \n",
            " max_pooling1d_148 (MaxPooling1  (None, 1000, 128)   0           ['activation_196[0][0]']         \n",
            " D)                                                                                               \n",
            "                                                                                                  \n",
            " conv1d_790 (Conv1D)            (None, 1000, 32)     40960       ['conv1d_789[0][0]']             \n",
            "                                                                                                  \n",
            " conv1d_791 (Conv1D)            (None, 1000, 32)     20480       ['conv1d_789[0][0]']             \n",
            "                                                                                                  \n",
            " conv1d_792 (Conv1D)            (None, 1000, 32)     10240       ['conv1d_789[0][0]']             \n",
            "                                                                                                  \n",
            " conv1d_793 (Conv1D)            (None, 1000, 32)     4096        ['max_pooling1d_148[0][0]']      \n",
            "                                                                                                  \n",
            " concatenate_148 (Concatenate)  (None, 1000, 128)    0           ['conv1d_790[0][0]',             \n",
            "                                                                  'conv1d_791[0][0]',             \n",
            "                                                                  'conv1d_792[0][0]',             \n",
            "                                                                  'conv1d_793[0][0]']             \n",
            "                                                                                                  \n",
            " batch_normalization_197 (Batch  (None, 1000, 128)   512         ['concatenate_148[0][0]']        \n",
            " Normalization)                                                                                   \n",
            "                                                                                                  \n",
            " activation_197 (Activation)    (None, 1000, 128)    0           ['batch_normalization_197[0][0]']\n",
            "                                                                                                  \n",
            " conv1d_794 (Conv1D)            (None, 1000, 32)     4096        ['activation_197[0][0]']         \n",
            "                                                                                                  \n",
            " max_pooling1d_149 (MaxPooling1  (None, 1000, 128)   0           ['activation_197[0][0]']         \n",
            " D)                                                                                               \n",
            "                                                                                                  \n",
            " conv1d_795 (Conv1D)            (None, 1000, 32)     40960       ['conv1d_794[0][0]']             \n",
            "                                                                                                  \n",
            " conv1d_796 (Conv1D)            (None, 1000, 32)     20480       ['conv1d_794[0][0]']             \n",
            "                                                                                                  \n",
            " conv1d_797 (Conv1D)            (None, 1000, 32)     10240       ['conv1d_794[0][0]']             \n",
            "                                                                                                  \n",
            " conv1d_798 (Conv1D)            (None, 1000, 32)     4096        ['max_pooling1d_149[0][0]']      \n",
            "                                                                                                  \n",
            " concatenate_149 (Concatenate)  (None, 1000, 128)    0           ['conv1d_795[0][0]',             \n",
            "                                                                  'conv1d_796[0][0]',             \n",
            "                                                                  'conv1d_797[0][0]',             \n",
            "                                                                  'conv1d_798[0][0]']             \n",
            "                                                                                                  \n",
            " conv1d_799 (Conv1D)            (None, 1000, 128)    16384       ['activation_195[0][0]']         \n",
            "                                                                                                  \n",
            " batch_normalization_198 (Batch  (None, 1000, 128)   512         ['concatenate_149[0][0]']        \n",
            " Normalization)                                                                                   \n",
            "                                                                                                  \n",
            " batch_normalization_199 (Batch  (None, 1000, 128)   512         ['conv1d_799[0][0]']             \n",
            " Normalization)                                                                                   \n",
            "                                                                                                  \n",
            " activation_198 (Activation)    (None, 1000, 128)    0           ['batch_normalization_198[0][0]']\n",
            "                                                                                                  \n",
            " add_49 (Add)                   (None, 1000, 128)    0           ['batch_normalization_199[0][0]',\n",
            "                                                                  'activation_198[0][0]']         \n",
            "                                                                                                  \n",
            " activation_199 (Activation)    (None, 1000, 128)    0           ['add_49[0][0]']                 \n",
            "                                                                                                  \n",
            " global_average_pooling1d_24 (G  (None, 128)         0           ['activation_199[0][0]']         \n",
            " lobalAveragePooling1D)                                                                           \n",
            "                                                                                                  \n",
            " dense_variational_2 (DenseVari  (None, 8)           534060      ['global_average_pooling1d_24[0][\n",
            " ational)                                                        0]']                             \n",
            "                                                                                                  \n",
            " dense_6 (Dense)                (None, 2)            18          ['dense_variational_2[0][0]']    \n",
            "                                                                                                  \n",
            " independent_normal_15 (Indepen  ((None, 1),         0           ['dense_6[0][0]']                \n",
            " dentNormal)                     (None, 1))                                                       \n",
            "                                                                                                  \n",
            "==================================================================================================\n",
            "Total params: 1,027,902\n",
            "Trainable params: 1,025,854\n",
            "Non-trainable params: 2,048\n",
            "__________________________________________________________________________________________________\n"
          ]
        }
      ]
    },
    {
      "cell_type": "code",
      "source": [
        "age = age.astype(float)"
      ],
      "metadata": {
        "id": "lGgqxTLhQ_-R"
      },
      "execution_count": 149,
      "outputs": []
    },
    {
      "cell_type": "code",
      "execution_count": 150,
      "metadata": {
        "_kg_hide-input": true,
        "colab": {
          "base_uri": "https://localhost:8080/"
        },
        "execution": {
          "iopub.execute_input": "2022-05-31T14:36:53.913635Z",
          "iopub.status.busy": "2022-05-31T14:36:53.912945Z",
          "iopub.status.idle": "2022-05-31T14:56:24.06372Z",
          "shell.execute_reply": "2022-05-31T14:56:24.059549Z",
          "shell.execute_reply.started": "2022-05-31T14:36:53.913583Z"
        },
        "id": "2odSNCwgXNSQ",
        "outputId": "907dadd9-1779-49e7-cd91-71545863e75e",
        "trusted": true
      },
      "outputs": [
        {
          "output_type": "stream",
          "name": "stdout",
          "text": [
            "Training model...\n",
            "Start training the model...\n",
            "Epoch 1/30\n",
            "680/680 [==============================] - 59s 80ms/step - loss: 490.5470 - root_mean_squared_error: 59.3290\n",
            "Epoch 2/30\n",
            "680/680 [==============================] - 54s 79ms/step - loss: 35.7689 - root_mean_squared_error: 54.5536\n",
            "Epoch 3/30\n",
            "680/680 [==============================] - 54s 79ms/step - loss: 10.5043 - root_mean_squared_error: 50.1487\n",
            "Epoch 4/30\n",
            "680/680 [==============================] - 54s 79ms/step - loss: 6.5096 - root_mean_squared_error: 46.8044\n",
            "Epoch 5/30\n",
            "680/680 [==============================] - 54s 79ms/step - loss: 5.3936 - root_mean_squared_error: 44.9052\n",
            "Epoch 6/30\n",
            "680/680 [==============================] - 54s 79ms/step - loss: 5.0417 - root_mean_squared_error: 43.9379\n",
            "Epoch 7/30\n",
            "680/680 [==============================] - 54s 79ms/step - loss: 4.8781 - root_mean_squared_error: 39.7765\n",
            "Epoch 8/30\n",
            "680/680 [==============================] - 54s 79ms/step - loss: 4.7141 - root_mean_squared_error: 34.2025\n",
            "Epoch 9/30\n",
            "680/680 [==============================] - 54s 79ms/step - loss: 4.5441 - root_mean_squared_error: 28.8256\n",
            "Epoch 10/30\n",
            "680/680 [==============================] - 54s 79ms/step - loss: 4.3986 - root_mean_squared_error: 23.9604\n",
            "Epoch 11/30\n",
            "680/680 [==============================] - 54s 79ms/step - loss: 4.3029 - root_mean_squared_error: 21.2053\n",
            "Epoch 12/30\n",
            "680/680 [==============================] - 54s 79ms/step - loss: 4.2709 - root_mean_squared_error: 20.2553\n",
            "Epoch 13/30\n",
            "680/680 [==============================] - 54s 79ms/step - loss: 4.2520 - root_mean_squared_error: 19.7545\n",
            "Epoch 14/30\n",
            "680/680 [==============================] - 54s 79ms/step - loss: 4.2415 - root_mean_squared_error: 19.1713\n",
            "Epoch 15/30\n",
            "680/680 [==============================] - 54s 79ms/step - loss: 4.2248 - root_mean_squared_error: 18.9562\n",
            "Epoch 16/30\n",
            "680/680 [==============================] - 54s 79ms/step - loss: 4.1979 - root_mean_squared_error: 18.5079\n",
            "Epoch 17/30\n",
            "680/680 [==============================] - 54s 79ms/step - loss: 4.1787 - root_mean_squared_error: 18.2387\n",
            "Epoch 18/30\n",
            "680/680 [==============================] - 54s 79ms/step - loss: 4.1729 - root_mean_squared_error: 18.0416\n",
            "Epoch 19/30\n",
            "680/680 [==============================] - 54s 79ms/step - loss: 4.1714 - root_mean_squared_error: 17.8600\n",
            "Epoch 20/30\n",
            "680/680 [==============================] - 54s 79ms/step - loss: 4.1465 - root_mean_squared_error: 17.5605\n",
            "Epoch 21/30\n",
            "680/680 [==============================] - 54s 79ms/step - loss: 4.1467 - root_mean_squared_error: 17.3448\n",
            "Epoch 22/30\n",
            "680/680 [==============================] - 54s 79ms/step - loss: 4.1290 - root_mean_squared_error: 17.2554\n",
            "Epoch 23/30\n",
            "680/680 [==============================] - 54s 79ms/step - loss: 4.1194 - root_mean_squared_error: 17.0190\n",
            "Epoch 24/30\n",
            "680/680 [==============================] - 54s 79ms/step - loss: 4.1013 - root_mean_squared_error: 16.8439\n",
            "Epoch 25/30\n",
            "680/680 [==============================] - 54s 79ms/step - loss: 4.1001 - root_mean_squared_error: 16.6212\n",
            "Epoch 26/30\n",
            "680/680 [==============================] - 54s 79ms/step - loss: 4.0909 - root_mean_squared_error: 16.5385\n",
            "Epoch 27/30\n",
            "680/680 [==============================] - 54s 79ms/step - loss: 4.0732 - root_mean_squared_error: 16.4147\n",
            "Epoch 28/30\n",
            "680/680 [==============================] - 54s 79ms/step - loss: 4.0677 - root_mean_squared_error: 16.2776\n",
            "Epoch 29/30\n",
            "680/680 [==============================] - 54s 79ms/step - loss: 4.0580 - root_mean_squared_error: 15.9962\n",
            "Epoch 30/30\n",
            "680/680 [==============================] - 54s 79ms/step - loss: 4.0445 - root_mean_squared_error: 15.8754\n",
            "Model training finished.\n"
          ]
        }
      ],
      "source": [
        "samp_freq = 100\n",
        "time = 10\n",
        "num_leads = 12\n",
        "batchsize = 16\n",
        "epoch = 30\n",
        "mae_score_total = []\n",
        "\n",
        "print(\"Training model...\")\n",
        "\n",
        "\n",
        "\n",
        "model = build_bayesian_model((samp_freq*time,num_leads), 1)\n",
        "run_experiment(model, negative_loglikelihood, ecgs, age)\n",
        "#model.fit(x=ecgs, y=age, validation_split=0.2, epochs=epoch, \n",
        "#            steps_per_epoch=(len(ecgs)/batchsize), \n",
        "#            verbose = 1)"
      ]
    },
    {
      "cell_type": "code",
      "source": [
        "prediction_distribution = model(ecgs[0:100])"
      ],
      "metadata": {
        "id": "GzA9djfXYTxv"
      },
      "execution_count": 187,
      "outputs": []
    },
    {
      "cell_type": "code",
      "source": [
        "prediction_mean = prediction_distribution.mean().numpy().tolist()\n",
        "prediction_mean"
      ],
      "metadata": {
        "id": "5IIp6tgTYoRF",
        "outputId": "a49fd80f-9cfd-469e-a5f8-4fcdea2c78b1",
        "colab": {
          "base_uri": "https://localhost:8080/"
        }
      },
      "execution_count": 188,
      "outputs": [
        {
          "output_type": "execute_result",
          "data": {
            "text/plain": [
              "[[64.18186950683594],\n",
              " [64.04885864257812],\n",
              " [57.45804214477539],\n",
              " [56.23747253417969],\n",
              " [66.72325897216797],\n",
              " [64.93323516845703],\n",
              " [49.150447845458984],\n",
              " [66.9429931640625],\n",
              " [63.16047668457031],\n",
              " [63.403953552246094],\n",
              " [66.55436706542969],\n",
              " [52.46300506591797],\n",
              " [63.83372497558594],\n",
              " [65.593994140625],\n",
              " [57.26483917236328],\n",
              " [29.48477554321289],\n",
              " [59.45000457763672],\n",
              " [48.59263229370117],\n",
              " [44.44319534301758],\n",
              " [57.77980041503906],\n",
              " [48.84201431274414],\n",
              " [53.340484619140625],\n",
              " [50.043121337890625],\n",
              " [47.175392150878906],\n",
              " [61.42977523803711],\n",
              " [41.021968841552734],\n",
              " [56.53047180175781],\n",
              " [48.997955322265625],\n",
              " [65.06724548339844],\n",
              " [43.349735260009766],\n",
              " [48.62925720214844],\n",
              " [47.34669494628906],\n",
              " [67.55040740966797],\n",
              " [67.78736877441406],\n",
              " [58.096561431884766],\n",
              " [67.4615707397461],\n",
              " [63.987911224365234],\n",
              " [25.929367065429688],\n",
              " [64.6092529296875],\n",
              " [51.14102554321289],\n",
              " [50.847103118896484],\n",
              " [24.168235778808594],\n",
              " [64.89127349853516],\n",
              " [39.15247344970703],\n",
              " [47.36112594604492],\n",
              " [54.621437072753906],\n",
              " [55.011558532714844],\n",
              " [67.64027404785156],\n",
              " [54.496315002441406],\n",
              " [42.670528411865234],\n",
              " [60.00809097290039],\n",
              " [42.12959671020508],\n",
              " [45.97669219970703],\n",
              " [45.336997985839844],\n",
              " [47.3386116027832],\n",
              " [60.35909652709961],\n",
              " [47.46859359741211],\n",
              " [66.69525909423828],\n",
              " [44.82125473022461],\n",
              " [47.836212158203125],\n",
              " [63.78249740600586],\n",
              " [33.32302474975586],\n",
              " [65.86628723144531],\n",
              " [48.00017547607422],\n",
              " [39.712589263916016],\n",
              " [55.85157775878906],\n",
              " [39.99684524536133],\n",
              " [44.735347747802734],\n",
              " [41.67048263549805],\n",
              " [65.16493225097656],\n",
              " [68.46520233154297],\n",
              " [66.2130126953125],\n",
              " [43.892433166503906],\n",
              " [23.77208709716797],\n",
              " [40.68872833251953],\n",
              " [50.81642532348633],\n",
              " [37.153812408447266],\n",
              " [64.93334197998047],\n",
              " [63.811004638671875],\n",
              " [44.4962158203125],\n",
              " [61.60567092895508],\n",
              " [64.26752471923828],\n",
              " [51.569053649902344],\n",
              " [48.63386535644531],\n",
              " [52.36177444458008],\n",
              " [54.87187576293945],\n",
              " [66.4731216430664],\n",
              " [67.3830337524414],\n",
              " [32.03048324584961],\n",
              " [38.206298828125],\n",
              " [65.23921966552734],\n",
              " [65.79276275634766],\n",
              " [36.983795166015625],\n",
              " [47.79505157470703],\n",
              " [53.144657135009766],\n",
              " [49.234840393066406],\n",
              " [50.898616790771484],\n",
              " [56.90609359741211],\n",
              " [66.916748046875],\n",
              " [45.66719436645508]]"
            ]
          },
          "metadata": {},
          "execution_count": 188
        }
      ]
    },
    {
      "cell_type": "code",
      "source": [
        "prediction_stdv = prediction_distribution.stddev().numpy()\n",
        "prediction_stdv"
      ],
      "metadata": {
        "id": "xel4JwcUYuJk",
        "outputId": "41c71cc6-0635-4fd3-a19a-8d5820f0529d",
        "colab": {
          "base_uri": "https://localhost:8080/"
        }
      },
      "execution_count": 189,
      "outputs": [
        {
          "output_type": "execute_result",
          "data": {
            "text/plain": [
              "array([[11.516092 ],\n",
              "       [11.462268 ],\n",
              "       [11.1628065],\n",
              "       [11.085354 ],\n",
              "       [11.746468 ],\n",
              "       [11.553346 ],\n",
              "       [10.592386 ],\n",
              "       [11.773462 ],\n",
              "       [11.411301 ],\n",
              "       [11.516415 ],\n",
              "       [11.72466  ],\n",
              "       [10.86652  ],\n",
              "       [11.537406 ],\n",
              "       [11.609503 ],\n",
              "       [11.22509  ],\n",
              "       [ 7.9199944],\n",
              "       [11.282902 ],\n",
              "       [10.554775 ],\n",
              "       [10.1872015],\n",
              "       [11.240019 ],\n",
              "       [10.552584 ],\n",
              "       [10.864654 ],\n",
              "       [10.685028 ],\n",
              "       [10.397613 ],\n",
              "       [11.242695 ],\n",
              "       [ 9.544888 ],\n",
              "       [11.0378685],\n",
              "       [10.560037 ],\n",
              "       [11.622056 ],\n",
              "       [10.049624 ],\n",
              "       [10.542755 ],\n",
              "       [10.463625 ],\n",
              "       [11.845636 ],\n",
              "       [11.874585 ],\n",
              "       [11.320458 ],\n",
              "       [11.8348465],\n",
              "       [11.533873 ],\n",
              "       [ 7.4479933],\n",
              "       [11.532891 ],\n",
              "       [10.757145 ],\n",
              "       [10.688211 ],\n",
              "       [ 7.2792215],\n",
              "       [11.550371 ],\n",
              "       [ 9.471672 ],\n",
              "       [10.432012 ],\n",
              "       [11.0426035],\n",
              "       [11.013068 ],\n",
              "       [11.856612 ],\n",
              "       [10.953363 ],\n",
              "       [ 9.965724 ],\n",
              "       [11.32591  ],\n",
              "       [ 9.896891 ],\n",
              "       [10.313016 ],\n",
              "       [10.236382 ],\n",
              "       [10.442662 ],\n",
              "       [11.337902 ],\n",
              "       [10.431614 ],\n",
              "       [11.742718 ],\n",
              "       [10.2031   ],\n",
              "       [10.463875 ],\n",
              "       [11.509582 ],\n",
              "       [ 8.429408 ],\n",
              "       [11.647874 ],\n",
              "       [10.508071 ],\n",
              "       [ 9.517676 ],\n",
              "       [10.651085 ],\n",
              "       [ 9.59979  ],\n",
              "       [10.176966 ],\n",
              "       [ 9.877724 ],\n",
              "       [11.567838 ],\n",
              "       [11.957327 ],\n",
              "       [11.682523 ],\n",
              "       [10.12569  ],\n",
              "       [ 7.238583 ],\n",
              "       [ 9.711187 ],\n",
              "       [10.759274 ],\n",
              "       [ 9.1744795],\n",
              "       [11.554878 ],\n",
              "       [11.389173 ],\n",
              "       [10.113048 ],\n",
              "       [11.357252 ],\n",
              "       [11.504602 ],\n",
              "       [10.783989 ],\n",
              "       [10.537569 ],\n",
              "       [10.754116 ],\n",
              "       [10.858511 ],\n",
              "       [11.718066 ],\n",
              "       [11.825541 ],\n",
              "       [ 8.402003 ],\n",
              "       [ 9.335779 ],\n",
              "       [11.563669 ],\n",
              "       [11.632472 ],\n",
              "       [ 9.142918 ],\n",
              "       [10.469349 ],\n",
              "       [10.930583 ],\n",
              "       [10.58192  ],\n",
              "       [10.714793 ],\n",
              "       [11.062035 ],\n",
              "       [11.768305 ],\n",
              "       [10.301185 ]], dtype=float32)"
            ]
          },
          "metadata": {},
          "execution_count": 189
        }
      ]
    },
    {
      "cell_type": "code",
      "source": [
        "# The 95% CI is computed as mean ± (1.96 * stdv)\n",
        "upper = (prediction_mean + (1.96 * prediction_stdv)).tolist()\n",
        "lower = (prediction_mean - (1.96 * prediction_stdv)).tolist()\n",
        "prediction_stdv = prediction_stdv.tolist()"
      ],
      "metadata": {
        "id": "EAW3pWOvZDG6"
      },
      "execution_count": 190,
      "outputs": []
    },
    {
      "cell_type": "code",
      "source": [
        "for idx in range(len(ecgs[0:100])):\n",
        "    print(\n",
        "        f\"Prediction mean: {round(prediction_mean[idx][0], 2)}, \"\n",
        "        f\"stddev: {round(prediction_stdv[idx][0], 2)}, \"\n",
        "        f\"95% CI: [{round(upper[idx][0], 2)} - {round(lower[idx][0], 2)}]\"\n",
        "        f\" - Actual: {age[idx]}\"\n",
        "    )"
      ],
      "metadata": {
        "id": "XZrSbcn5Y5hP",
        "outputId": "69b8eb6e-f11e-4c58-9582-a8bad9f47117",
        "colab": {
          "base_uri": "https://localhost:8080/"
        }
      },
      "execution_count": 191,
      "outputs": [
        {
          "output_type": "stream",
          "name": "stdout",
          "text": [
            "Prediction mean: 64.18, stddev: 11.52, 95% CI: [86.75 - 41.61] - Actual: 77.0\n",
            "Prediction mean: 64.05, stddev: 11.46, 95% CI: [86.51 - 41.58] - Actual: 58.0\n",
            "Prediction mean: 57.46, stddev: 11.16, 95% CI: [79.34 - 35.58] - Actual: 69.0\n",
            "Prediction mean: 56.24, stddev: 11.09, 95% CI: [77.96 - 34.51] - Actual: 83.0\n",
            "Prediction mean: 66.72, stddev: 11.75, 95% CI: [89.75 - 43.7] - Actual: 72.0\n",
            "Prediction mean: 64.93, stddev: 11.55, 95% CI: [87.58 - 42.29] - Actual: 79.0\n",
            "Prediction mean: 49.15, stddev: 10.59, 95% CI: [69.91 - 28.39] - Actual: 72.0\n",
            "Prediction mean: 66.94, stddev: 11.77, 95% CI: [90.02 - 43.87] - Actual: 86.0\n",
            "Prediction mean: 63.16, stddev: 11.41, 95% CI: [85.53 - 40.79] - Actual: 83.0\n",
            "Prediction mean: 63.4, stddev: 11.52, 95% CI: [85.98 - 40.83] - Actual: 67.0\n",
            "Prediction mean: 66.55, stddev: 11.72, 95% CI: [89.53 - 43.57] - Actual: 89.0\n",
            "Prediction mean: 52.46, stddev: 10.87, 95% CI: [73.76 - 31.16] - Actual: 73.0\n",
            "Prediction mean: 63.83, stddev: 11.54, 95% CI: [86.45 - 41.22] - Actual: 65.0\n",
            "Prediction mean: 65.59, stddev: 11.61, 95% CI: [88.35 - 42.84] - Actual: 72.0\n",
            "Prediction mean: 57.26, stddev: 11.23, 95% CI: [79.27 - 35.26] - Actual: 62.0\n",
            "Prediction mean: 29.48, stddev: 7.92, 95% CI: [45.01 - 13.96] - Actual: 42.0\n",
            "Prediction mean: 59.45, stddev: 11.28, 95% CI: [81.56 - 37.34] - Actual: 62.0\n",
            "Prediction mean: 48.59, stddev: 10.55, 95% CI: [69.28 - 27.91] - Actual: 44.0\n",
            "Prediction mean: 44.44, stddev: 10.19, 95% CI: [64.41 - 24.48] - Actual: 38.0\n",
            "Prediction mean: 57.78, stddev: 11.24, 95% CI: [79.81 - 35.75] - Actual: 71.0\n",
            "Prediction mean: 48.84, stddev: 10.55, 95% CI: [69.53 - 28.16] - Actual: 59.0\n",
            "Prediction mean: 53.34, stddev: 10.86, 95% CI: [74.64 - 32.05] - Actual: 71.0\n",
            "Prediction mean: 50.04, stddev: 10.69, 95% CI: [70.99 - 29.1] - Actual: 84.0\n",
            "Prediction mean: 47.18, stddev: 10.4, 95% CI: [67.55 - 26.8] - Actual: 45.0\n",
            "Prediction mean: 61.43, stddev: 11.24, 95% CI: [83.47 - 39.39] - Actual: 55.0\n",
            "Prediction mean: 41.02, stddev: 9.54, 95% CI: [59.73 - 22.31] - Actual: 38.0\n",
            "Prediction mean: 56.53, stddev: 11.04, 95% CI: [78.16 - 34.9] - Actual: 49.0\n",
            "Prediction mean: 49.0, stddev: 10.56, 95% CI: [69.7 - 28.3] - Actual: 54.0\n",
            "Prediction mean: 65.07, stddev: 11.62, 95% CI: [87.85 - 42.29] - Actual: 76.0\n",
            "Prediction mean: 43.35, stddev: 10.05, 95% CI: [63.05 - 23.65] - Actual: 32.0\n",
            "Prediction mean: 48.63, stddev: 10.54, 95% CI: [69.29 - 27.97] - Actual: 52.0\n",
            "Prediction mean: 47.35, stddev: 10.46, 95% CI: [67.86 - 26.84] - Actual: 55.0\n",
            "Prediction mean: 67.55, stddev: 11.85, 95% CI: [90.77 - 44.33] - Actual: 81.0\n",
            "Prediction mean: 67.79, stddev: 11.87, 95% CI: [91.06 - 44.51] - Actual: 84.0\n",
            "Prediction mean: 58.1, stddev: 11.32, 95% CI: [80.28 - 35.91] - Actual: 59.0\n",
            "Prediction mean: 67.46, stddev: 11.83, 95% CI: [90.66 - 44.27] - Actual: 82.0\n",
            "Prediction mean: 63.99, stddev: 11.53, 95% CI: [86.59 - 41.38] - Actual: 83.0\n",
            "Prediction mean: 25.93, stddev: 7.45, 95% CI: [40.53 - 11.33] - Actual: 19.0\n",
            "Prediction mean: 64.61, stddev: 11.53, 95% CI: [87.21 - 42.0] - Actual: 61.0\n",
            "Prediction mean: 51.14, stddev: 10.76, 95% CI: [72.23 - 30.06] - Actual: 52.0\n",
            "Prediction mean: 50.85, stddev: 10.69, 95% CI: [71.8 - 29.9] - Actual: 61.0\n",
            "Prediction mean: 24.17, stddev: 7.28, 95% CI: [38.44 - 9.9] - Actual: 19.0\n",
            "Prediction mean: 64.89, stddev: 11.55, 95% CI: [87.53 - 42.25] - Actual: 66.0\n",
            "Prediction mean: 39.15, stddev: 9.47, 95% CI: [57.72 - 20.59] - Actual: 33.0\n",
            "Prediction mean: 47.36, stddev: 10.43, 95% CI: [67.81 - 26.91] - Actual: 61.0\n",
            "Prediction mean: 54.62, stddev: 11.04, 95% CI: [76.26 - 32.98] - Actual: 70.0\n",
            "Prediction mean: 55.01, stddev: 11.01, 95% CI: [76.6 - 33.43] - Actual: 63.0\n",
            "Prediction mean: 67.64, stddev: 11.86, 95% CI: [90.88 - 44.4] - Actual: 74.0\n",
            "Prediction mean: 54.5, stddev: 10.95, 95% CI: [75.96 - 33.03] - Actual: 43.0\n",
            "Prediction mean: 42.67, stddev: 9.97, 95% CI: [62.2 - 23.14] - Actual: 46.0\n",
            "Prediction mean: 60.01, stddev: 11.33, 95% CI: [82.21 - 37.81] - Actual: 51.0\n",
            "Prediction mean: 42.13, stddev: 9.9, 95% CI: [61.53 - 22.73] - Actual: 35.0\n",
            "Prediction mean: 45.98, stddev: 10.31, 95% CI: [66.19 - 25.76] - Actual: 53.0\n",
            "Prediction mean: 45.34, stddev: 10.24, 95% CI: [65.4 - 25.27] - Actual: 62.0\n",
            "Prediction mean: 47.34, stddev: 10.44, 95% CI: [67.81 - 26.87] - Actual: 49.0\n",
            "Prediction mean: 60.36, stddev: 11.34, 95% CI: [82.58 - 38.14] - Actual: 74.0\n",
            "Prediction mean: 47.47, stddev: 10.43, 95% CI: [67.91 - 27.02] - Actual: 53.0\n",
            "Prediction mean: 66.7, stddev: 11.74, 95% CI: [89.71 - 43.68] - Actual: 76.0\n",
            "Prediction mean: 44.82, stddev: 10.2, 95% CI: [64.82 - 24.82] - Actual: 37.0\n",
            "Prediction mean: 47.84, stddev: 10.46, 95% CI: [68.35 - 27.33] - Actual: 67.0\n",
            "Prediction mean: 63.78, stddev: 11.51, 95% CI: [86.34 - 41.22] - Actual: 87.0\n",
            "Prediction mean: 33.32, stddev: 8.43, 95% CI: [49.84 - 16.8] - Actual: 37.0\n",
            "Prediction mean: 65.87, stddev: 11.65, 95% CI: [88.7 - 43.04] - Actual: 62.0\n",
            "Prediction mean: 48.0, stddev: 10.51, 95% CI: [68.6 - 27.4] - Actual: 48.0\n",
            "Prediction mean: 39.71, stddev: 9.52, 95% CI: [58.37 - 21.06] - Actual: 33.0\n",
            "Prediction mean: 55.85, stddev: 10.65, 95% CI: [76.73 - 34.98] - Actual: 57.0\n",
            "Prediction mean: 40.0, stddev: 9.6, 95% CI: [58.81 - 21.18] - Actual: 43.0\n",
            "Prediction mean: 44.74, stddev: 10.18, 95% CI: [64.68 - 24.79] - Actual: 50.0\n",
            "Prediction mean: 41.67, stddev: 9.88, 95% CI: [61.03 - 22.31] - Actual: 43.0\n",
            "Prediction mean: 65.16, stddev: 11.57, 95% CI: [87.84 - 42.49] - Actual: 65.0\n",
            "Prediction mean: 68.47, stddev: 11.96, 95% CI: [91.9 - 45.03] - Actual: 85.0\n",
            "Prediction mean: 66.21, stddev: 11.68, 95% CI: [89.11 - 43.32] - Actual: 76.0\n",
            "Prediction mean: 43.89, stddev: 10.13, 95% CI: [63.74 - 24.05] - Actual: 57.0\n",
            "Prediction mean: 23.77, stddev: 7.24, 95% CI: [37.96 - 9.58] - Actual: 26.0\n",
            "Prediction mean: 40.69, stddev: 9.71, 95% CI: [59.72 - 21.65] - Actual: 52.0\n",
            "Prediction mean: 50.82, stddev: 10.76, 95% CI: [71.9 - 29.73] - Actual: 59.0\n",
            "Prediction mean: 37.15, stddev: 9.17, 95% CI: [55.14 - 19.17] - Actual: 37.0\n",
            "Prediction mean: 64.93, stddev: 11.55, 95% CI: [87.58 - 42.29] - Actual: 83.0\n",
            "Prediction mean: 63.81, stddev: 11.39, 95% CI: [86.13 - 41.49] - Actual: 89.0\n",
            "Prediction mean: 44.5, stddev: 10.11, 95% CI: [64.32 - 24.67] - Actual: 42.0\n",
            "Prediction mean: 61.61, stddev: 11.36, 95% CI: [83.87 - 39.35] - Actual: 70.0\n",
            "Prediction mean: 64.27, stddev: 11.5, 95% CI: [86.82 - 41.72] - Actual: 62.0\n",
            "Prediction mean: 51.57, stddev: 10.78, 95% CI: [72.71 - 30.43] - Actual: 62.0\n",
            "Prediction mean: 48.63, stddev: 10.54, 95% CI: [69.29 - 27.98] - Actual: 43.0\n",
            "Prediction mean: 52.36, stddev: 10.75, 95% CI: [73.44 - 31.28] - Actual: 71.0\n",
            "Prediction mean: 54.87, stddev: 10.86, 95% CI: [76.15 - 33.59] - Actual: 78.0\n",
            "Prediction mean: 66.47, stddev: 11.72, 95% CI: [89.44 - 43.51] - Actual: 61.0\n",
            "Prediction mean: 67.38, stddev: 11.83, 95% CI: [90.56 - 44.2] - Actual: 70.0\n",
            "Prediction mean: 32.03, stddev: 8.4, 95% CI: [48.5 - 15.56] - Actual: 35.0\n",
            "Prediction mean: 38.21, stddev: 9.34, 95% CI: [56.5 - 19.91] - Actual: 35.0\n",
            "Prediction mean: 65.24, stddev: 11.56, 95% CI: [87.9 - 42.57] - Actual: 68.0\n",
            "Prediction mean: 65.79, stddev: 11.63, 95% CI: [88.59 - 42.99] - Actual: 89.0\n",
            "Prediction mean: 36.98, stddev: 9.14, 95% CI: [54.9 - 19.06] - Actual: 40.0\n",
            "Prediction mean: 47.8, stddev: 10.47, 95% CI: [68.31 - 27.28] - Actual: 65.0\n",
            "Prediction mean: 53.14, stddev: 10.93, 95% CI: [74.57 - 31.72] - Actual: 65.0\n",
            "Prediction mean: 49.23, stddev: 10.58, 95% CI: [69.98 - 28.49] - Actual: 54.0\n",
            "Prediction mean: 50.9, stddev: 10.71, 95% CI: [71.9 - 29.9] - Actual: 63.0\n",
            "Prediction mean: 56.91, stddev: 11.06, 95% CI: [78.59 - 35.22] - Actual: 63.0\n",
            "Prediction mean: 66.92, stddev: 11.77, 95% CI: [89.98 - 43.85] - Actual: 79.0\n",
            "Prediction mean: 45.67, stddev: 10.3, 95% CI: [65.86 - 25.48] - Actual: 54.0\n"
          ]
        }
      ]
    },
    {
      "cell_type": "code",
      "source": [
        "%matplotlib inline\n",
        "import matplotlib.pyplot as plt\n",
        "plt.style.use('seaborn-whitegrid')"
      ],
      "metadata": {
        "id": "apTUYThzjhwq"
      },
      "execution_count": 192,
      "outputs": []
    },
    {
      "cell_type": "code",
      "source": [
        "plt.figure(figsize=(34,10))\n",
        "for i in range(100):\n",
        "  plt.errorbar(x=i,y=prediction_mean[i][0],yerr=prediction_stdv[i][0],fmt='.k', marker='o')\n",
        "  plt.scatter(x=i, y=age[i], color=\"C1\")\n",
        "plt.show()"
      ],
      "metadata": {
        "id": "2p-MA-szgbz4",
        "outputId": "bab853ed-32f8-45b4-c9d7-f9e016a62f9b",
        "colab": {
          "base_uri": "https://localhost:8080/",
          "height": 461
        }
      },
      "execution_count": 193,
      "outputs": [
        {
          "output_type": "display_data",
          "data": {
            "text/plain": [
              "<Figure size 2448x720 with 1 Axes>"
            ],
            "image/png": "[encoded data removed]"
          },
          "metadata": {}
        }
      ]
    },
    {
      "cell_type": "code",
      "source": [],
      "metadata": {
        "id": "qmtLTaWviQRG"
      },
      "execution_count": null,
      "outputs": []
    }
  ],
  "metadata": {
    "accelerator": "GPU",
    "colab": {
      "name": "age-estimation-of-women-using-cnn-on-12-lead-ecg.ipynb",
      "provenance": [],
      "machine_shape": "hm"
    },
    "gpuClass": "standard",
    "kernelspec": {
      "display_name": "Python 3.8.5 ('base')",
      "language": "python",
      "name": "python3"
    },
    "language_info": {
      "codemirror_mode": {
        "name": "ipython",
        "version": 3
      },
      "file_extension": ".py",
      "mimetype": "text/x-python",
      "name": "python",
      "nbconvert_exporter": "python",
      "pygments_lexer": "ipython3",
      "version": "3.8.5"
    },
    "vscode": {
      "interpreter": {
        "hash": "39192be711985d5a4908b881b6a992a73610e2430c975ad8c4f9221a910d9ff0"
      }
    }
  },
  "nbformat": 4,
  "nbformat_minor": 0
}